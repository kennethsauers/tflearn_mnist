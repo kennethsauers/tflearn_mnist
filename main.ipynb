{
 "cells": [
  {
   "cell_type": "code",
   "execution_count": 1,
   "metadata": {
    "collapsed": true
   },
   "outputs": [],
   "source": [
    "import tflearn\n",
    "import tensorflow\n",
    "import numpy as np\n",
    "from tflearn.layers.core import input_data, dropout, fully_connected\n",
    "from tflearn.layers.estimator import regression\n",
    "import os"
   ]
  },
  {
   "cell_type": "code",
   "execution_count": 2,
   "metadata": {
    "collapsed": false
   },
   "outputs": [
    {
     "name": "stdout",
     "output_type": "stream",
     "text": [
      "Extracting MNIST_data/train-images-idx3-ubyte.gz\n",
      "Extracting MNIST_data/train-labels-idx1-ubyte.gz\n",
      "Extracting MNIST_data/t10k-images-idx3-ubyte.gz\n",
      "Extracting MNIST_data/t10k-labels-idx1-ubyte.gz\n"
     ]
    }
   ],
   "source": [
    "import database"
   ]
  },
  {
   "cell_type": "code",
   "execution_count": 3,
   "metadata": {
    "collapsed": false
   },
   "outputs": [],
   "source": [
    "class agent():\n",
    "    def __init__(self, name):\n",
    "        self.name = name\n",
    "        self.model = self.model_create()\n",
    "        self.main_dir = 'model_saves'\n",
    "        self.model_name = self.main_dir + '/' + self.name\n",
    "        if not os.path.exists(self.main_dir):\n",
    "            os.makedirs(self.main_dir)\n",
    "            \n",
    "    def saver(self):\n",
    "        self.model.save(self.model_name)\n",
    "        \n",
    "    def restorer(self):\n",
    "        self.model.load(self.model_name)\n",
    "    \n",
    "    def train_for(self, num):\n",
    "        for i in range(num):\n",
    "            self.model.fit({'input': database.train_x}, {'targets': database.train_y}, n_epoch=1, snapshot_step=500, show_metric=True, run_id='openai_learning')\n",
    "\n",
    "    def find_diff(self):\n",
    "        for i in range(len(database.train_x)):\n",
    "            xx= np.array([self.model.predict([database.test_x[i]])])\n",
    "            ture = np.array([database.test_y[i]])\n",
    "            if(xx.argmax() != ture.argmax()):\n",
    "                return i\n",
    "\n",
    "    \n",
    "    def model_create(self):\n",
    "        keep = 0.8\n",
    "        input_size = 28*28\n",
    "        LR = 1e-3\n",
    "        network = input_data(shape=[None, input_size], name='input')\n",
    "        network = fully_connected(network, 128, activation='relu', name = 'hidden_1')\n",
    "        network = dropout(network,keep)\n",
    "        network = fully_connected(network, 256, activation='relu', name = 'hidden_2')\n",
    "        network = dropout(network,keep)\n",
    "        network = fully_connected(network, 512, activation='relu', name = 'hidden_3')\n",
    "        network = dropout(network,keep)\n",
    "        network = fully_connected(network, 256, activation='relu', name = 'hidden_4')\n",
    "        network = dropout(network,keep)\n",
    "        network = fully_connected(network, 128, activation='relu', name = 'hidden_5')\n",
    "        network = dropout(network,keep)\n",
    "        network = fully_connected(network, 10, activation='softmax', name = 'softmax')\n",
    "        network = regression(network, optimizer='adam', learning_rate=LR, loss='categorical_crossentropy', name='targets')\n",
    "        model = tflearn.DNN(network, tensorboard_verbose=3)\n",
    "        return model"
   ]
  },
  {
   "cell_type": "code",
   "execution_count": 4,
   "metadata": {
    "collapsed": true
   },
   "outputs": [],
   "source": [
    "def main():\n",
    "    name = agent('broo')\n",
    "    name.train_for(2)\n",
    "    "
   ]
  },
  {
   "cell_type": "code",
   "execution_count": 5,
   "metadata": {
    "collapsed": false
   },
   "outputs": [
    {
     "name": "stdout",
     "output_type": "stream",
     "text": [
      "Training Step: 1719  | total loss: \u001b[1m\u001b[32m0.23151\u001b[0m\u001b[0m | time: 38.775s\n",
      "| Adam | epoch: 002 | loss: 0.23151 - acc: 0.9410 -- iter: 54976/55000\n",
      "Training Step: 1720  | total loss: \u001b[1m\u001b[32m0.22207\u001b[0m\u001b[0m | time: 38.811s\n",
      "| Adam | epoch: 002 | loss: 0.22207 - acc: 0.9422 -- iter: 55000/55000\n",
      "--\n"
     ]
    }
   ],
   "source": [
    "if __name__ == '__main__':\n",
    "    main()"
   ]
  },
  {
   "cell_type": "code",
   "execution_count": null,
   "metadata": {
    "collapsed": true
   },
   "outputs": [],
   "source": []
  }
 ],
 "metadata": {
  "anaconda-cloud": {},
  "kernelspec": {
   "display_name": "Python [conda root]",
   "language": "python",
   "name": "conda-root-py"
  },
  "language_info": {
   "codemirror_mode": {
    "name": "ipython",
    "version": 3
   },
   "file_extension": ".py",
   "mimetype": "text/x-python",
   "name": "python",
   "nbconvert_exporter": "python",
   "pygments_lexer": "ipython3",
   "version": "3.5.2"
  }
 },
 "nbformat": 4,
 "nbformat_minor": 2
}
